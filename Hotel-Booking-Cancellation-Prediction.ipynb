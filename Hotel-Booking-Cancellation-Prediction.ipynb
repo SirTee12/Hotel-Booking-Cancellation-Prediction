{
 "cells": [
  {
   "cell_type": "code",
   "execution_count": 1,
   "id": "55e683ed",
   "metadata": {},
   "outputs": [
    {
     "data": {
      "text/html": [
       "<img src=\"https://i1.wp.com/maphappy.org/wp-content/uploads/2014/09/LgTEc8xSy2NndQoeCU9RUYgMq_meq7dlEbZAfMcadUg-1-e1438274302149.jpg?resize=800%2C444&ssl=1\"/>"
      ],
      "text/plain": [
       "<IPython.core.display.Image object>"
      ]
     },
     "execution_count": 1,
     "metadata": {},
     "output_type": "execute_result"
    }
   ],
   "source": [
    "from IPython.display import Image\n",
    "\n",
    "image_url = \"https://i1.wp.com/maphappy.org/wp-content/uploads/2014/09/LgTEc8xSy2NndQoeCU9RUYgMq_meq7dlEbZAfMcadUg-1-e1438274302149.jpg?resize=800%2C444&ssl=1\"\n",
    "Image(url=image_url)"
   ]
  },
  {
   "cell_type": "markdown",
   "id": "11fcd6af",
   "metadata": {},
   "source": [
    "## Predicting Hotel Cancellations\n",
    "Booking cancellations can significantly affect demand management strategies in the hospitality sector. The internet sees over 140 million bookings annually, with a significant proportion of hotel bookings being made through popular travel websites.\n",
    "\n",
    "To overcome the problems caused by booking cancellations, hotels implement rigid cancellation policies, inventory management, and overbooking strategies, which can also have a negative influence on revenue and reputation.\n",
    "\n",
    "Once the reservation has been canceled, there is almost nothing to be done and it creates discomfort for many Hotels and Hotel Technology companies. Therefore, predicting reservations which might get canceled and preventing these cancellations will create a surplus revenue for both Hotels and Hotel Technology companies.\n",
    "\n"
   ]
  },
  {
   "cell_type": "markdown",
   "id": "4473969c",
   "metadata": {},
   "source": [
    "## Motivation\n",
    "\n",
    "Imagine if there was a way to predict which guests are likely to cancel their hotel bookings. Using Machine Learning with Python, this is possible. By predicting cancellations, hotels can generate additional revenue, improve forecasting accuracy, and reduce uncertainty in business management decisions.\n",
    "\n",
    "For those who want to follow a structured approach while working on a machine learning project, this analysis provides a comprehensive guide. It covers the entire process of solving a real-world machine learning project, from understanding the business problem to deploying the model on the cloud."
   ]
  },
  {
   "cell_type": "markdown",
   "id": "072fe373",
   "metadata": {},
   "source": [
    "# 1. Description of the project\n",
    "\n",
    "- Understanding the Business Problem\n",
    "- Data Collection and Understanding\n",
    "- Data Exploration\n",
    "- Data Preparation\n",
    "- Modeling\n",
    "- Model Deployment"
   ]
  },
  {
   "cell_type": "markdown",
   "id": "c649f656",
   "metadata": {},
   "source": [
    "## 1.1 Understanding Business Problem\n",
    "The Goal of this project is to Predict the Guests who are likely to Cancel the Hotel Booking using Machine Learning with Python. Therefore, predicting reservations which might get canceled and preventing these cancellations will create a surplus revenue, better forecasts and reduce uncertainty in business management decisions."
   ]
  },
  {
   "cell_type": "markdown",
   "id": "a6998c70",
   "metadata": {},
   "source": [
    "## Data Collection and Understanding"
   ]
  },
  {
   "cell_type": "markdown",
   "id": "10b78c2b",
   "metadata": {},
   "source": [
    "The business has provided us with their bookings data in a file called `hotel_bookings.csv`, which contains the following:\n",
    "\n",
    "| Column     | Description              |\n",
    "|------------|--------------------------|\n",
    "| `Booking_ID` | Unique identifier of the booking. |\n",
    "| `no_of_adults` | The number of adults. |\n",
    "| `no_of_children` | The number of children. |\n",
    "| `no_of_weekend_nights` | Number of weekend nights (Saturday or Sunday). |\n",
    "| `no_of_week_nights` | Number of week nights (Monday to Friday). |\n",
    "| `type_of_meal_plan` | Type of meal plan included in the booking. |\n",
    "| `required_car_parking_space` | Whether a car parking space is required. |\n",
    "| `room_type_reserved` | The type of room reserved. |\n",
    "| `lead_time` | Number of days before the arrival date the booking was made. |\n",
    "| `arrival_year` | Year of arrival. |\n",
    "| `arrival_month` | Month of arrival. |\n",
    "| `arrival_date` | Date of the month for arrival. |\n",
    "| `market_segment_type` | How the booking was made. |\n",
    "| `repeated_guest` | Whether the guest has previously stayed at the hotel. |\n",
    "| `no_of_previous_cancellations` | Number of previous cancellations. |\n",
    "| `no_of_previous_bookings_not_canceled` | Number of previous bookings that were canceled. |\n",
    "| `avg_price_per_room` | Average price per day of the booking. |\n",
    "| `no_of_special_requests` | Count of special requests made as part of the booking. |\n",
    "| `booking_status` | Whether the booking was cancelled or not. |\n",
    "\n",
    "Source (data has been modified): https://www.kaggle.com/datasets/ahsan81/hotel-reservations-classification-dataset"
   ]
  },
  {
   "cell_type": "code",
   "execution_count": null,
   "id": "ba2844da",
   "metadata": {},
   "outputs": [],
   "source": []
  }
 ],
 "metadata": {
  "kernelspec": {
   "display_name": "Python 3 (ipykernel)",
   "language": "python",
   "name": "python3"
  },
  "language_info": {
   "codemirror_mode": {
    "name": "ipython",
    "version": 3
   },
   "file_extension": ".py",
   "mimetype": "text/x-python",
   "name": "python",
   "nbconvert_exporter": "python",
   "pygments_lexer": "ipython3",
   "version": "3.10.9"
  }
 },
 "nbformat": 4,
 "nbformat_minor": 5
}
