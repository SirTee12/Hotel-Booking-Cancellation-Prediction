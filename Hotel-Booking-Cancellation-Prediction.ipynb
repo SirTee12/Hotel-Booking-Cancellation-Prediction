{
 "cells": [
  {
   "cell_type": "code",
   "execution_count": 1,
   "id": "55e683ed",
   "metadata": {},
   "outputs": [
    {
     "data": {
      "text/html": [
       "<img src=\"https://i1.wp.com/maphappy.org/wp-content/uploads/2014/09/LgTEc8xSy2NndQoeCU9RUYgMq_meq7dlEbZAfMcadUg-1-e1438274302149.jpg?resize=800%2C444&ssl=1\"/>"
      ],
      "text/plain": [
       "<IPython.core.display.Image object>"
      ]
     },
     "execution_count": 1,
     "metadata": {},
     "output_type": "execute_result"
    }
   ],
   "source": [
    "from IPython.display import Image\n",
    "\n",
    "image_url = \"https://i1.wp.com/maphappy.org/wp-content/uploads/2014/09/LgTEc8xSy2NndQoeCU9RUYgMq_meq7dlEbZAfMcadUg-1-e1438274302149.jpg?resize=800%2C444&ssl=1\"\n",
    "Image(url=image_url)"
   ]
  },
  {
   "cell_type": "markdown",
   "id": "11fcd6af",
   "metadata": {},
   "source": [
    "## Predicting Hotel Cancellations\n",
    "Booking cancellations can significantly affect demand management strategies in the hospitality sector. The internet sees over 140 million bookings annually, with a significant proportion of hotel bookings being made through popular travel websites.\n",
    "\n",
    "To overcome the problems caused by booking cancellations, hotels implement rigid cancellation policies, inventory management, and overbooking strategies, which can also have a negative influence on revenue and reputation.\n",
    "\n",
    "Once the reservation has been canceled, there is almost nothing to be done and it creates discomfort for many Hotels and Hotel Technology companies. Therefore, predicting reservations which might get canceled and preventing these cancellations will create a surplus revenue for both Hotels and Hotel Technology companies.\n",
    "\n"
   ]
  },
  {
   "cell_type": "markdown",
   "id": "4473969c",
   "metadata": {},
   "source": [
    "## Motivation\n",
    "\n",
    "Imagine if there was a way to predict which guests are likely to cancel their hotel bookings. Using Machine Learning with Python, this is possible. By predicting cancellations, hotels can generate additional revenue, improve forecasting accuracy, and reduce uncertainty in business management decisions.\n",
    "\n",
    "For those who want to follow a structured approach while working on a machine learning project, this analysis provides a comprehensive guide. It covers the entire process of solving a real-world machine learning project, from understanding the business problem to deploying the model on the cloud."
   ]
  },
  {
   "cell_type": "markdown",
   "id": "072fe373",
   "metadata": {},
   "source": [
    "# 1. Description of the project\n",
    "\n",
    "- Understanding the Business Problem\n",
    "- Data Collection and Understanding\n",
    "- Data Exploration\n",
    "- Data Preparation\n",
    "- Modeling\n",
    "- Model Deployment"
   ]
  },
  {
   "cell_type": "markdown",
   "id": "c649f656",
   "metadata": {},
   "source": [
    "## 1.1 Understanding Business Problem\n",
    "The Goal of this project is to Predict the Guests who are likely to Cancel the Hotel Booking using Machine Learning with Python. Therefore, predicting reservations which might get canceled and preventing these cancellations will create a surplus revenue, better forecasts and reduce uncertainty in business management decisions."
   ]
  },
  {
   "cell_type": "markdown",
   "id": "a6998c70",
   "metadata": {},
   "source": [
    "## Data Collection and Understanding"
   ]
  },
  {
   "cell_type": "markdown",
   "id": "10b78c2b",
   "metadata": {},
   "source": [
    "The business has provided us with their bookings data in a file called `hotel_bookings.csv`, which contains the following:\n",
    "\n",
    "| Column     | Description              |\n",
    "|------------|--------------------------|\n",
    "| `Booking_ID` | Unique identifier of the booking. |\n",
    "| `no_of_adults` | The number of adults. |\n",
    "| `no_of_children` | The number of children. |\n",
    "| `no_of_weekend_nights` | Number of weekend nights (Saturday or Sunday). |\n",
    "| `no_of_week_nights` | Number of week nights (Monday to Friday). |\n",
    "| `type_of_meal_plan` | Type of meal plan included in the booking. |\n",
    "| `required_car_parking_space` | Whether a car parking space is required. |\n",
    "| `room_type_reserved` | The type of room reserved. |\n",
    "| `lead_time` | Number of days before the arrival date the booking was made. |\n",
    "| `arrival_year` | Year of arrival. |\n",
    "| `arrival_month` | Month of arrival. |\n",
    "| `arrival_date` | Date of the month for arrival. |\n",
    "| `market_segment_type` | How the booking was made. |\n",
    "| `repeated_guest` | Whether the guest has previously stayed at the hotel. |\n",
    "| `no_of_previous_cancellations` | Number of previous cancellations. |\n",
    "| `no_of_previous_bookings_not_canceled` | Number of previous bookings that were canceled. |\n",
    "| `avg_price_per_room` | Average price per day of the booking. |\n",
    "| `no_of_special_requests` | Count of special requests made as part of the booking. |\n",
    "| `booking_status` | Whether the booking was cancelled or not. |\n",
    "\n",
    "Source (data has been modified): https://www.kaggle.com/datasets/ahsan81/hotel-reservations-classification-dataset"
   ]
  },
  {
   "cell_type": "markdown",
   "id": "62bbabdd",
   "metadata": {},
   "source": [
    "## 1.3. Data Exploration\n",
    "In this step, we will apply Exploratory Data Analysis (EDA) to extract insights from the data set to know which features have contributed more in predicting Cancellations by performing Data Analysis using Pandas and Data visualization using Matplotlib & Seaborn. It is always a good practice to understand the data first and try to gather as many insights from it."
   ]
  },
  {
   "cell_type": "code",
   "execution_count": 2,
   "id": "b4a019f8",
   "metadata": {},
   "outputs": [],
   "source": [
    "# import necessary libraries\n",
    "import numpy as np\n",
    "import pandas as pd\n",
    "import pickle\n",
    "import matplotlib.pyplot as plt\n",
    "import seaborn as sns\n",
    "import plotly.express as px\n",
    "from scipy import stats\n",
    "import statsmodels.api as sm\n",
    "from sklearn import datasets, linear_model\n",
    "from sklearn.linear_model import LogisticRegression\n",
    "from sklearn.model_selection import train_test_split, GridSearchCV\n",
    "from sklearn.metrics import classification_report, confusion_matrix, roc_curve, roc_auc_score\n",
    "from matplotlib import pyplot\n",
    "\n",
    "pd.set_option('display.max_columns', 999)"
   ]
  },
  {
   "cell_type": "code",
   "execution_count": 3,
   "id": "c946dd09",
   "metadata": {
    "scrolled": true
   },
   "outputs": [
    {
     "data": {
      "text/html": [
       "<div>\n",
       "<style scoped>\n",
       "    .dataframe tbody tr th:only-of-type {\n",
       "        vertical-align: middle;\n",
       "    }\n",
       "\n",
       "    .dataframe tbody tr th {\n",
       "        vertical-align: top;\n",
       "    }\n",
       "\n",
       "    .dataframe thead th {\n",
       "        text-align: right;\n",
       "    }\n",
       "</style>\n",
       "<table border=\"1\" class=\"dataframe\">\n",
       "  <thead>\n",
       "    <tr style=\"text-align: right;\">\n",
       "      <th></th>\n",
       "      <th>Booking_ID</th>\n",
       "      <th>no_of_adults</th>\n",
       "      <th>no_of_children</th>\n",
       "      <th>no_of_weekend_nights</th>\n",
       "      <th>no_of_week_nights</th>\n",
       "      <th>type_of_meal_plan</th>\n",
       "      <th>required_car_parking_space</th>\n",
       "      <th>room_type_reserved</th>\n",
       "      <th>lead_time</th>\n",
       "      <th>arrival_year</th>\n",
       "      <th>arrival_month</th>\n",
       "      <th>arrival_date</th>\n",
       "      <th>market_segment_type</th>\n",
       "      <th>repeated_guest</th>\n",
       "      <th>no_of_previous_cancellations</th>\n",
       "      <th>no_of_previous_bookings_not_canceled</th>\n",
       "      <th>avg_price_per_room</th>\n",
       "      <th>no_of_special_requests</th>\n",
       "      <th>booking_status</th>\n",
       "    </tr>\n",
       "  </thead>\n",
       "  <tbody>\n",
       "    <tr>\n",
       "      <th>0</th>\n",
       "      <td>INN00001</td>\n",
       "      <td>NaN</td>\n",
       "      <td>NaN</td>\n",
       "      <td>NaN</td>\n",
       "      <td>NaN</td>\n",
       "      <td>NaN</td>\n",
       "      <td>NaN</td>\n",
       "      <td>NaN</td>\n",
       "      <td>NaN</td>\n",
       "      <td>NaN</td>\n",
       "      <td>NaN</td>\n",
       "      <td>NaN</td>\n",
       "      <td>NaN</td>\n",
       "      <td>NaN</td>\n",
       "      <td>NaN</td>\n",
       "      <td>NaN</td>\n",
       "      <td>NaN</td>\n",
       "      <td>NaN</td>\n",
       "      <td>Not_Canceled</td>\n",
       "    </tr>\n",
       "    <tr>\n",
       "      <th>1</th>\n",
       "      <td>INN00002</td>\n",
       "      <td>2.0</td>\n",
       "      <td>0.0</td>\n",
       "      <td>2.0</td>\n",
       "      <td>3.0</td>\n",
       "      <td>Not Selected</td>\n",
       "      <td>0.0</td>\n",
       "      <td>Room_Type 1</td>\n",
       "      <td>5.0</td>\n",
       "      <td>2018.0</td>\n",
       "      <td>11.0</td>\n",
       "      <td>6.0</td>\n",
       "      <td>Online</td>\n",
       "      <td>0.0</td>\n",
       "      <td>0.0</td>\n",
       "      <td>0.0</td>\n",
       "      <td>106.68</td>\n",
       "      <td>1.0</td>\n",
       "      <td>Not_Canceled</td>\n",
       "    </tr>\n",
       "    <tr>\n",
       "      <th>2</th>\n",
       "      <td>INN00003</td>\n",
       "      <td>1.0</td>\n",
       "      <td>0.0</td>\n",
       "      <td>2.0</td>\n",
       "      <td>1.0</td>\n",
       "      <td>Meal Plan 1</td>\n",
       "      <td>0.0</td>\n",
       "      <td>Room_Type 1</td>\n",
       "      <td>1.0</td>\n",
       "      <td>2018.0</td>\n",
       "      <td>2.0</td>\n",
       "      <td>28.0</td>\n",
       "      <td>Online</td>\n",
       "      <td>0.0</td>\n",
       "      <td>0.0</td>\n",
       "      <td>0.0</td>\n",
       "      <td>60.00</td>\n",
       "      <td>0.0</td>\n",
       "      <td>Canceled</td>\n",
       "    </tr>\n",
       "    <tr>\n",
       "      <th>3</th>\n",
       "      <td>INN00004</td>\n",
       "      <td>2.0</td>\n",
       "      <td>0.0</td>\n",
       "      <td>0.0</td>\n",
       "      <td>2.0</td>\n",
       "      <td>Meal Plan 1</td>\n",
       "      <td>0.0</td>\n",
       "      <td>Room_Type 1</td>\n",
       "      <td>211.0</td>\n",
       "      <td>2018.0</td>\n",
       "      <td>5.0</td>\n",
       "      <td>20.0</td>\n",
       "      <td>Online</td>\n",
       "      <td>0.0</td>\n",
       "      <td>0.0</td>\n",
       "      <td>0.0</td>\n",
       "      <td>100.00</td>\n",
       "      <td>0.0</td>\n",
       "      <td>Canceled</td>\n",
       "    </tr>\n",
       "    <tr>\n",
       "      <th>4</th>\n",
       "      <td>INN00005</td>\n",
       "      <td>2.0</td>\n",
       "      <td>0.0</td>\n",
       "      <td>1.0</td>\n",
       "      <td>1.0</td>\n",
       "      <td>Not Selected</td>\n",
       "      <td>0.0</td>\n",
       "      <td>Room_Type 1</td>\n",
       "      <td>48.0</td>\n",
       "      <td>2018.0</td>\n",
       "      <td>4.0</td>\n",
       "      <td>11.0</td>\n",
       "      <td>Online</td>\n",
       "      <td>0.0</td>\n",
       "      <td>0.0</td>\n",
       "      <td>0.0</td>\n",
       "      <td>94.50</td>\n",
       "      <td>0.0</td>\n",
       "      <td>Canceled</td>\n",
       "    </tr>\n",
       "  </tbody>\n",
       "</table>\n",
       "</div>"
      ],
      "text/plain": [
       "  Booking_ID  no_of_adults  no_of_children  no_of_weekend_nights  \\\n",
       "0   INN00001           NaN             NaN                   NaN   \n",
       "1   INN00002           2.0             0.0                   2.0   \n",
       "2   INN00003           1.0             0.0                   2.0   \n",
       "3   INN00004           2.0             0.0                   0.0   \n",
       "4   INN00005           2.0             0.0                   1.0   \n",
       "\n",
       "   no_of_week_nights type_of_meal_plan  required_car_parking_space  \\\n",
       "0                NaN               NaN                         NaN   \n",
       "1                3.0      Not Selected                         0.0   \n",
       "2                1.0       Meal Plan 1                         0.0   \n",
       "3                2.0       Meal Plan 1                         0.0   \n",
       "4                1.0      Not Selected                         0.0   \n",
       "\n",
       "  room_type_reserved  lead_time  arrival_year  arrival_month  arrival_date  \\\n",
       "0                NaN        NaN           NaN            NaN           NaN   \n",
       "1        Room_Type 1        5.0        2018.0           11.0           6.0   \n",
       "2        Room_Type 1        1.0        2018.0            2.0          28.0   \n",
       "3        Room_Type 1      211.0        2018.0            5.0          20.0   \n",
       "4        Room_Type 1       48.0        2018.0            4.0          11.0   \n",
       "\n",
       "  market_segment_type  repeated_guest  no_of_previous_cancellations  \\\n",
       "0                 NaN             NaN                           NaN   \n",
       "1              Online             0.0                           0.0   \n",
       "2              Online             0.0                           0.0   \n",
       "3              Online             0.0                           0.0   \n",
       "4              Online             0.0                           0.0   \n",
       "\n",
       "   no_of_previous_bookings_not_canceled  avg_price_per_room  \\\n",
       "0                                   NaN                 NaN   \n",
       "1                                   0.0              106.68   \n",
       "2                                   0.0               60.00   \n",
       "3                                   0.0              100.00   \n",
       "4                                   0.0               94.50   \n",
       "\n",
       "   no_of_special_requests booking_status  \n",
       "0                     NaN   Not_Canceled  \n",
       "1                     1.0   Not_Canceled  \n",
       "2                     0.0       Canceled  \n",
       "3                     0.0       Canceled  \n",
       "4                     0.0       Canceled  "
      ]
     },
     "execution_count": 3,
     "metadata": {},
     "output_type": "execute_result"
    }
   ],
   "source": [
    "# load data an print first few row\n",
    "hotel_booking_ori = pd.read_csv('data/hotel_bookings.csv')\n",
    "hotel_booking_ori.head()"
   ]
  },
  {
   "cell_type": "code",
   "execution_count": 4,
   "id": "ebc1e59c",
   "metadata": {
    "scrolled": true
   },
   "outputs": [
    {
     "name": "stdout",
     "output_type": "stream",
     "text": [
      "<class 'pandas.core.frame.DataFrame'>\n",
      "RangeIndex: 36275 entries, 0 to 36274\n",
      "Data columns (total 19 columns):\n",
      " #   Column                                Non-Null Count  Dtype  \n",
      "---  ------                                --------------  -----  \n",
      " 0   Booking_ID                            36275 non-null  object \n",
      " 1   no_of_adults                          35862 non-null  float64\n",
      " 2   no_of_children                        35951 non-null  float64\n",
      " 3   no_of_weekend_nights                  35908 non-null  float64\n",
      " 4   no_of_week_nights                     35468 non-null  float64\n",
      " 5   type_of_meal_plan                     35749 non-null  object \n",
      " 6   required_car_parking_space            33683 non-null  float64\n",
      " 7   room_type_reserved                    35104 non-null  object \n",
      " 8   lead_time                             35803 non-null  float64\n",
      " 9   arrival_year                          35897 non-null  float64\n",
      " 10  arrival_month                         35771 non-null  float64\n",
      " 11  arrival_date                          35294 non-null  float64\n",
      " 12  market_segment_type                   34763 non-null  object \n",
      " 13  repeated_guest                        35689 non-null  float64\n",
      " 14  no_of_previous_cancellations          35778 non-null  float64\n",
      " 15  no_of_previous_bookings_not_canceled  35725 non-null  float64\n",
      " 16  avg_price_per_room                    35815 non-null  float64\n",
      " 17  no_of_special_requests                35486 non-null  float64\n",
      " 18  booking_status                        36275 non-null  object \n",
      "dtypes: float64(14), object(5)\n",
      "memory usage: 5.3+ MB\n"
     ]
    }
   ],
   "source": [
    "# check the brief info on columns, rows and data types\n",
    "hotel_booking_ori.info()"
   ]
  },
  {
   "cell_type": "markdown",
   "id": "342f02c9",
   "metadata": {},
   "source": [
    "## 1.4 Data Cleaning"
   ]
  },
  {
   "cell_type": "code",
   "execution_count": 5,
   "id": "9470b92e",
   "metadata": {},
   "outputs": [],
   "source": [
    "#make a copy of the original data\n",
    "hotel_bookings = hotel_booking_ori.copy()\n"
   ]
  },
  {
   "cell_type": "code",
   "execution_count": 6,
   "id": "ffab6f23",
   "metadata": {},
   "outputs": [
    {
     "name": "stdout",
     "output_type": "stream",
     "text": [
      "number of duplicate rows:  0\n"
     ]
    }
   ],
   "source": [
    "# check for duplicates\n",
    "duplicate_rows = hotel_bookings[hotel_bookings.duplicated()]\n",
    "print(\"number of duplicate rows: \", duplicate_rows.shape[0])"
   ]
  },
  {
   "cell_type": "markdown",
   "id": "7f19bdb9",
   "metadata": {},
   "source": [
    "**Conclusion:** Based on the output of the count of missing values in each column, we can see that the dataset contains missing values in several columns. The highest percentage of missing values is in the `required_car_parking_space` column, with 7.15% of the values missing. Other columns with a high percentage of missing values include `market_segment_type` (4.17%), `room_type_reserved` (3.23%), `arrival_date` (2.70%), and `no_of_week_nights` (2.22%)."
   ]
  },
  {
   "cell_type": "code",
   "execution_count": 7,
   "id": "5c63779b",
   "metadata": {},
   "outputs": [
    {
     "name": "stdout",
     "output_type": "stream",
     "text": [
      "                                      Num of NULL in each column  \\\n",
      "Booking_ID                                                     0   \n",
      "no_of_adults                                                 413   \n",
      "no_of_children                                               324   \n",
      "no_of_weekend_nights                                         367   \n",
      "no_of_week_nights                                            807   \n",
      "type_of_meal_plan                                            526   \n",
      "required_car_parking_space                                  2592   \n",
      "room_type_reserved                                          1171   \n",
      "lead_time                                                    472   \n",
      "arrival_year                                                 378   \n",
      "arrival_month                                                504   \n",
      "arrival_date                                                 981   \n",
      "market_segment_type                                         1512   \n",
      "repeated_guest                                               586   \n",
      "no_of_previous_cancellations                                 497   \n",
      "no_of_previous_bookings_not_canceled                         550   \n",
      "avg_price_per_room                                           460   \n",
      "no_of_special_requests                                       789   \n",
      "booking_status                                                 0   \n",
      "\n",
      "                                      NULL percentage  \n",
      "Booking_ID                                       0.00  \n",
      "no_of_adults                                     1.14  \n",
      "no_of_children                                   0.89  \n",
      "no_of_weekend_nights                             1.01  \n",
      "no_of_week_nights                                2.22  \n",
      "type_of_meal_plan                                1.45  \n",
      "required_car_parking_space                       7.15  \n",
      "room_type_reserved                               3.23  \n",
      "lead_time                                        1.30  \n",
      "arrival_year                                     1.04  \n",
      "arrival_month                                    1.39  \n",
      "arrival_date                                     2.70  \n",
      "market_segment_type                              4.17  \n",
      "repeated_guest                                   1.62  \n",
      "no_of_previous_cancellations                     1.37  \n",
      "no_of_previous_bookings_not_canceled             1.52  \n",
      "avg_price_per_room                               1.27  \n",
      "no_of_special_requests                           2.18  \n",
      "booking_status                                   0.00  \n"
     ]
    }
   ],
   "source": [
    "# check for missing values\n",
    "print(pd.DataFrame({'Num of NULL in each column':hotel_bookings.isnull().sum(),\n",
    "                   'NULL percentage':round(hotel_bookings.isnull().mean() * 100, 2)}))"
   ]
  },
  {
   "cell_type": "markdown",
   "id": "bfbf1f06",
   "metadata": {},
   "source": [
    "Next, we will need to clean the data by handling the missing values and addressing any inconsistencies in the data formatting.\n",
    "\n",
    "For the columns with missing values, we can either drop the rows with missing values or impute the missing values with appropriate values. The choice of method depends on the nature and quantity of missing data and the analytical objectives. In this case, we will impute the missing values with appropriate values, based on the data and the analytical objectives.\n",
    "\n",
    "- For the `type_of_meal_plan` column, we can replace the \"null\" values with NaN values to make them consistent with the other missing values.\n",
    "\n",
    "- For the `room_type_reserved` column, we can impute the missing values with the mode (most frequent value) of the column, since the column is categorical.\n",
    "\n",
    "- For the `required_car_parking_space` column, we can impute the missing values with 0, since the missing values likely indicate that the customers did not request a car parking space.\n",
    "\n",
    "- For the `arrival_date` column, we can impute the missing values with the median value of the column, since the column is numerical.\n",
    "\n",
    "- For the `no_of_week_nights` column, we can impute the missing values with 0, since the column is numerical and we assume that customer did not stay throughout the week.\n",
    "\n",
    "- For the `no_of_weekend_nights` column, we can impute the missing values with 0, since the column is numerical and we assume that customer did not stay on the weekend."
   ]
  },
  {
   "cell_type": "code",
   "execution_count": 8,
   "id": "3b8f727d",
   "metadata": {},
   "outputs": [],
   "source": [
    "# Replace 'null' values in the type_of_meal_plan columns with NaN \n",
    "hotel_bookings['type_of_meal_plan'].replace('null', np.nan, inplace=True)\n",
    "\n",
    "# Impute missing values in the room_type_reserved column with the mode\n",
    "room_type_mode = hotel_bookings['room_type_reserved'].mode().iloc[0]\n",
    "hotel_bookings['room_type_reserved'].fillna(room_type_mode, inplace = True)\n",
    "\n",
    "# Impute missing values in the required_car_parking_space column with 0\n",
    "hotel_bookings['required_car_parking_space'].fillna(0, inplace=True)\n",
    "\n",
    "# Impute missing values in the arrival_date column with the median\n",
    "arrival_date_median = hotel_bookings['arrival_date'].median()\n",
    "hotel_bookings['arrival_date'].fillna(arrival_date_median, inplace = True)\n",
    "\n",
    "# Impute missing values in the no_of_weekend_nights column with 0\n",
    "hotel_bookings['no_of_weekend_nights'].fillna(0, inplace = True)\n",
    "\n",
    "# Impute missing values in the no_of_week_nights column with 0\n",
    "hotel_bookings['no_of_week_nights'].fillna(0, inplace = True)"
   ]
  },
  {
   "cell_type": "markdown",
   "id": "0ad3f85c",
   "metadata": {},
   "source": [
    "For the remaining columns with missing values, we can impute them based on the nature and quantity of the missing data and the analytical objectives.\n",
    "\n",
    "- For example, we can impute the missing values in the `no_of_adults` column with the median, since this column is numerical and it is reasonable to assume that the median values would be representative of the missing values.\n",
    "\n",
    "- For the `arrival_year` and `arrival_month` columns, we can impute the missing values with the mode, since these columns are categorical and the mode values would be representative of the missing values.\n",
    "\n",
    "- For the `market_segment_type` column, we can impute the missing values with a new category called \"Unknown\", since we do not have enough information to infer the missing values.\n",
    "\n",
    "- For the `repeated_guest`, `no_of_previous_cancellations`, `no_of_previous_bookings_not_canceled`, and `no_of_special_requests` columns, we can impute the missing values with 0, since the missing values likely indicate that the customers did not have any previous bookings, cancellations, or special requests.\n",
    "\n",
    "- For example, if a customer did not provide any information on the number of children they were bringing to the hotel, it would be appropriate to assume that they did not bring any children and fill in 0 for that missing value."
   ]
  },
  {
   "cell_type": "code",
   "execution_count": 10,
   "id": "db2417f1",
   "metadata": {},
   "outputs": [],
   "source": [
    "# Impute missing values in the no_of_adults column with the median\n",
    "no_of_adult_median = hotel_bookings['no_of_adults'].median()\n",
    "hotel_bookings['no_of_adults'].fillna(no_of_adult_median, inplace = True)\n",
    "\n",
    "\n",
    "# Impute missing values in the arrival_year column with the mode\n",
    "arrival_year_mode = hotel_bookings['arrival_year'].mode().iloc[0]\n",
    "hotel_bookings['arrival_year'].fillna(arrival_year_mode, inplace=True)\n",
    "\n",
    "# Impute missing values in the arrival_month column with the mode\n",
    "arrival_month_mode = hotel_bookings['arrival_month'].mode().iloc[0]\n",
    "hotel_bookings['arrival_month'].fillna(arrival_month_mode, inplace=True)\n",
    "\n",
    "# Impute missing values in the market_segment_type column with \"Unknown\"\n",
    "hotel_bookings['market_segment_type'].fillna('unknown', inplace=True)\n",
    "\n",
    "# Impute missing values in the repeated_guest, no_of_previous_cancellations,\n",
    "# no_of_previous_bookings_not_canceled, and no_of_special_requests columns with 0\n",
    "hotel_bookings['repeated_guest'].fillna(0, inplace=True)\n",
    "hotel_bookings['no_of_previous_bookings_not_canceled'].fillna(0, inplace=True)\n",
    "hotel_bookings['no_of_previous_cancellations'].fillna(0, inplace=True)\n",
    "hotel_bookings['no_of_special_requests'].fillna(0, inplace=True)\n",
    "hotel_bookings['no_of_children'].fillna(0, inplace=True)\n"
   ]
  },
  {
   "cell_type": "markdown",
   "id": "fe6050dd",
   "metadata": {},
   "source": [
    "- For the `avg_price_per_room` column, we can impute the missing values with the median, since this column is numerical and the median value would be representative of the missing values.\n",
    "\n",
    "- For the `lead_time` column, we can impute the missing values with the median, since this column is numerical and the median value would be representative of the missing values.\n",
    "\n",
    "- For the `type_of_meal_plan` column, we can impute the missing values with a new category called \"Unknown\", since we do not have enough information to infer the missing values."
   ]
  },
  {
   "cell_type": "code",
   "execution_count": 12,
   "id": "cf2b3545",
   "metadata": {},
   "outputs": [],
   "source": [
    "# Impute missing values in the avg_price_per_room column with the median\n",
    "avg_price_median = hotel_bookings['avg_price_per_room'].median()\n",
    "hotel_bookings['avg_price_per_room'].fillna(avg_price_median, inplace = True)\n",
    "\n",
    "# Impute missing values in the avg_price_per_room column with the median\n",
    "lead_time_median = hotel_bookings['lead_time'].median()\n",
    "hotel_bookings['lead_time'].fillna(lead_time_median, inplace = True)\n",
    "\n",
    "# Impute missing values in the type_of_meal_plan column with \"Unknown\"\n",
    "hotel_bookings['type_of_meal_plan'].fillna('unknown', inplace=True)"
   ]
  },
  {
   "cell_type": "code",
   "execution_count": 13,
   "id": "1f74d13f",
   "metadata": {},
   "outputs": [],
   "source": [
    "# Replace \"Not_Canceled\" with 0 and \"Canceled\" with 1 in the booking_status column\n",
    "hotel_bookings['booking_status'].replace({'Not_Cancelled':0,\n",
    "                                         'Cancelled':1}, inplace=True)"
   ]
  },
  {
   "cell_type": "code",
   "execution_count": 14,
   "id": "140c8a2d",
   "metadata": {},
   "outputs": [
    {
     "name": "stdout",
     "output_type": "stream",
     "text": [
      "                                      # of NULL in each columns:  %NaN\n",
      "Booking_ID                                                     0   0.0\n",
      "no_of_adults                                                   0   0.0\n",
      "no_of_children                                                 0   0.0\n",
      "no_of_weekend_nights                                           0   0.0\n",
      "no_of_week_nights                                              0   0.0\n",
      "type_of_meal_plan                                              0   0.0\n",
      "required_car_parking_space                                     0   0.0\n",
      "room_type_reserved                                             0   0.0\n",
      "lead_time                                                      0   0.0\n",
      "arrival_year                                                   0   0.0\n",
      "arrival_month                                                  0   0.0\n",
      "arrival_date                                                   0   0.0\n",
      "market_segment_type                                            0   0.0\n",
      "repeated_guest                                                 0   0.0\n",
      "no_of_previous_cancellations                                   0   0.0\n",
      "no_of_previous_bookings_not_canceled                           0   0.0\n",
      "avg_price_per_room                                             0   0.0\n",
      "no_of_special_requests                                         0   0.0\n",
      "booking_status                                                 0   0.0\n"
     ]
    }
   ],
   "source": [
    "# verify that all null vlaue shave ben taking care of\n",
    "print(pd.DataFrame({\"# of NULL in each columns:\": hotel_bookings.isnull().sum(), \n",
    "                    '%NaN': round(hotel_bookings.isnull().mean() * 100, 2)}))"
   ]
  },
  {
   "cell_type": "code",
   "execution_count": null,
   "id": "1d076a13",
   "metadata": {},
   "outputs": [],
   "source": []
  }
 ],
 "metadata": {
  "kernelspec": {
   "display_name": "Python 3 (ipykernel)",
   "language": "python",
   "name": "python3"
  },
  "language_info": {
   "codemirror_mode": {
    "name": "ipython",
    "version": 3
   },
   "file_extension": ".py",
   "mimetype": "text/x-python",
   "name": "python",
   "nbconvert_exporter": "python",
   "pygments_lexer": "ipython3",
   "version": "3.10.9"
  }
 },
 "nbformat": 4,
 "nbformat_minor": 5
}
